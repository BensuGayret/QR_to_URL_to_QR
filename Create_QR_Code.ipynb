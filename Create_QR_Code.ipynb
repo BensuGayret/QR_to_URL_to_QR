{
 "cells": [
  {
   "cell_type": "code",
   "execution_count": 1,
   "id": "7598fa1d",
   "metadata": {},
   "outputs": [],
   "source": [
    "!pip install qrcode Image\n",
    "from PIL import Image as im"
   ]
  },
  {
   "cell_type": "code",
   "execution_count": 2,
   "id": "4c2b9bc3",
   "metadata": {},
   "outputs": [
    {
     "name": "stdout",
     "output_type": "stream",
     "text": [
      "Enter your url: https://medium.com/@gayret.bensu\n"
     ]
    }
   ],
   "source": [
    "import qrcode\n",
    "def generate_qrcode(text):\n",
    "    qr = qrcode.QRCode(\n",
    "        version = 1,\n",
    "        error_correction = qrcode.constants. ERROR_CORRECT_L,\n",
    "        box_size=10,\n",
    "        border=4,\n",
    "    )\n",
    "\n",
    "    qr.add_data(text)\n",
    "    qr.make(fit=True)\n",
    "    img = qr.make_image(fill_color=\"black\", back_color=\"white\")\n",
    "    img.save(\"qr_code.png\")\n",
    "    \n",
    "url = input(\"Enter your url: \")\n",
    "generate_qrcode(url)"
   ]
  },
  {
   "cell_type": "code",
   "execution_count": null,
   "id": "af879626",
   "metadata": {},
   "outputs": [],
   "source": []
  }
 ],
 "metadata": {
  "kernelspec": {
   "display_name": "Python 3.9.5 64-bit",
   "language": "python",
   "name": "python3"
  },
  "language_info": {
   "codemirror_mode": {
    "name": "ipython",
    "version": 3
   },
   "file_extension": ".py",
   "mimetype": "text/x-python",
   "name": "python",
   "nbconvert_exporter": "python",
   "pygments_lexer": "ipython3",
   "version": "3.9.5"
  },
  "vscode": {
   "interpreter": {
    "hash": "25034407fed5d681614dac11a1c0537e8cb49e3a8883c071303eea01322943d9"
   }
  }
 },
 "nbformat": 4,
 "nbformat_minor": 5
}
