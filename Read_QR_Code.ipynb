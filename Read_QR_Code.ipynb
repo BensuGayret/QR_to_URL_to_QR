{
 "cells": [
  {
   "cell_type": "code",
   "execution_count": 1,
   "id": "60cab1f2",
   "metadata": {},
   "outputs": [],
   "source": [
    "import cv2\n",
    "import numpy as np\n",
    "import pyzbar.pyzbar as pyzbar\n",
    "from PIL import Image as im"
   ]
  },
  {
   "cell_type": "code",
   "execution_count": 2,
   "id": "72ac18c8",
   "metadata": {},
   "outputs": [
    {
     "name": "stdout",
     "output_type": "stream",
     "text": [
      "Enter your image name: qr_code.png\n"
     ]
    }
   ],
   "source": [
    "path = input(\"Enter your image name: \")"
   ]
  },
  {
   "cell_type": "code",
   "execution_count": 3,
   "id": "434fe4a0",
   "metadata": {},
   "outputs": [],
   "source": [
    "image = cv2.imread(path)"
   ]
  },
  {
   "cell_type": "code",
   "execution_count": 4,
   "id": "29b8eab9",
   "metadata": {},
   "outputs": [
    {
     "name": "stdout",
     "output_type": "stream",
     "text": [
      "Type: QRCODE\n",
      "Data:  b'https://medium.com/@gayret.bensu' \n",
      "\n"
     ]
    },
    {
     "data": {
      "text/plain": [
       "-1"
      ]
     },
     "execution_count": 4,
     "metadata": {},
     "output_type": "execute_result"
    }
   ],
   "source": [
    "decodedObjects = pyzbar.decode(image)\n",
    "for obj in decodedObjects:\n",
    "    print(\"Type:\", obj.type)\n",
    "    print(\"Data: \", obj.data, \"\\n\")\n",
    "\n",
    "cv2.imshow(\"QR Scanner\", image)\n",
    "cv2.waitKey(0)"
   ]
  },
  {
   "cell_type": "code",
   "execution_count": null,
   "id": "ed6c3699",
   "metadata": {},
   "outputs": [],
   "source": []
  }
 ],
 "metadata": {
  "kernelspec": {
   "display_name": "Python 3 (ipykernel)",
   "language": "python",
   "name": "python3"
  },
  "language_info": {
   "codemirror_mode": {
    "name": "ipython",
    "version": 3
   },
   "file_extension": ".py",
   "mimetype": "text/x-python",
   "name": "python",
   "nbconvert_exporter": "python",
   "pygments_lexer": "ipython3",
   "version": "3.9.7"
  }
 },
 "nbformat": 4,
 "nbformat_minor": 5
}
